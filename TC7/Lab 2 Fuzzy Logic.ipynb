{
  "nbformat": 4,
  "nbformat_minor": 0,
  "metadata": {
    "colab": {
      "provenance": []
    },
    "kernelspec": {
      "name": "python3",
      "display_name": "Python 3"
    },
    "language_info": {
      "name": "python"
    }
  },
  "cells": [
    {
      "cell_type": "markdown",
      "source": [
        "# **Lab Assignment 2: Fuzzy Logic**\n",
        "**Program (and the dramatic shit) written by Krypto-Kiddo**\n",
        "\n",
        "\n",
        "---\n",
        "\n",
        "\n",
        "\n",
        "*For as long as i can remember, every single time, I have always been driven by the fear of messing things up. Let it be any friendship, any relationship, I have always worried about what if I fuck things up, what if they abandon me one day, If i mess it all up will they disapprove of what I am and not consider me to be a part of their lives. What if they eventually stop liking me... Guess what, the irony is, I always end up messing things out of fear.* \n",
        "\n",
        "*But for once, I have finally begun to see that I dont care anymore. As free as a kid i used to be, I am happy to be careless about it. Took my dumb brain 21 years to understand this but life is a long journey and a lot of people will come around during this time. Some, will impact it very heavily, heavier than you can imagine. I found one a few months ago. I dont know if to credit this to them or not but I finally know I am very happy not caring about what they'd think of me, I can be honest and vulnerable with them because I know I wont be judged and I will be accepted for who I am, no matter my flaws. This person is one hell of a gem. But anyway, lets see where time takes us and who we turn out to be...*\n",
        "\n",
        "---\n",
        "\n",
        "\n",
        "**lol the dramatic episodes will keep coming with commits.** \n",
        "\n",
        "**Have fun connecting the dots and tracing the story**\n",
        "\n",
        "\n",
        "---\n",
        "\n",
        "CODE BEGINS BELOW"
      ],
      "metadata": {
        "id": "LWLiX28nSiee"
      }
    },
    {
      "cell_type": "code",
      "execution_count": 6,
      "metadata": {
        "id": "6iotoyVYO0bH"
      },
      "outputs": [],
      "source": [
        "# Defining conditional limits for linguistic variables\n",
        "\n",
        "humidity_limit = 50          # percentage\n",
        "\n",
        "cold_limit = 18               # degree-celcius\n",
        "hot_limit = 32                # degree-celcius"
      ]
    },
    {
      "cell_type": "code",
      "source": [
        "# Generating random input\n",
        "\n",
        "import random\n",
        "# generating from ranges for random temperature and humidity\n",
        "temp = random.randint(-8,52)\n",
        "humid = random.randint(0,100)"
      ],
      "metadata": {
        "id": "C_KydDLtX_tp"
      },
      "execution_count": 7,
      "outputs": []
    },
    {
      "cell_type": "code",
      "source": [
        "# Implementing Fuzzy Logic conditionals\n",
        "\n",
        "def fuzzyWeather(temp,humid):\n",
        "  if (temp<cold_limit) and (humid<humidity_limit): print(\"Weather is cold and dry\")\n",
        "  elif (temp<cold_limit) and (humid>humidity_limit): print(\"Weather is cold and humid\")\n",
        "\n",
        "  elif(cold_limit<temp<hot_limit) and (humid<humidity_limit): print(\"Weather is pleasant\")\n",
        "  elif(cold_limit<temp<hot_limit) and (humid>humidity_limit): print(\"Weather is normal and humid\")\n",
        "\n",
        "  elif(temp>hot_limit) and (humid<humidity_limit): print(\"Weather is hot and dry\")\n",
        "  elif(temp>hot_limit) and (humid>humidity_limit): print(\"Weather is warm and humid\")\n",
        "\n",
        "  else: print(\"CONDITIONAL ERROR\")\n",
        "  "
      ],
      "metadata": {
        "id": "Ujth5zMpYUC9"
      },
      "execution_count": 8,
      "outputs": []
    },
    {
      "cell_type": "code",
      "source": [
        "# A weather printing function so we can see what input was given by the computer\n",
        "\n",
        "def printInput(temp,humid):\n",
        "  print(\"The temperature is \",temp,\"°C\")\n",
        "  print(\"The humidity is \",humid,\"%\")\n",
        "  "
      ],
      "metadata": {
        "id": "B9RsHb-DaP29"
      },
      "execution_count": 9,
      "outputs": []
    },
    {
      "cell_type": "code",
      "source": [
        "# Driver code\n",
        "\n",
        "printInput(temp,humid)\n",
        "\n",
        "fuzzyWeather(temp,humid)"
      ],
      "metadata": {
        "colab": {
          "base_uri": "https://localhost:8080/"
        },
        "id": "_DsXcxZAbMM1",
        "outputId": "2a5add81-5a60-463f-c02d-6cde568e02ea"
      },
      "execution_count": 10,
      "outputs": [
        {
          "output_type": "stream",
          "name": "stdout",
          "text": [
            "The temperature is  -6 °C\n",
            "The humidity is  11 %\n",
            "Weather is cold and dry\n"
          ]
        }
      ]
    },
    {
      "cell_type": "code",
      "source": [
        "# Run it as many times as you like\n",
        "\n",
        "temp = random.randint(-8,52)\n",
        "humid = random.randint(0,100)\n",
        "\n",
        "printInput(temp,humid)\n",
        "fuzzyWeather(temp,humid)"
      ],
      "metadata": {
        "colab": {
          "base_uri": "https://localhost:8080/"
        },
        "id": "_jGW_skzbcpE",
        "outputId": "9f42d82f-5131-4451-cd86-c46a4e36024e"
      },
      "execution_count": 13,
      "outputs": [
        {
          "output_type": "stream",
          "name": "stdout",
          "text": [
            "The temperature is  26 °C\n",
            "The humidity is  7 %\n",
            "Weather is pleasant\n"
          ]
        }
      ]
    },
    {
      "cell_type": "markdown",
      "source": [
        "END OF CODE 🙏"
      ],
      "metadata": {
        "id": "WAEzosv3bpYk"
      }
    }
  ]
}