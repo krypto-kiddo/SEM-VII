{
  "nbformat": 4,
  "nbformat_minor": 0,
  "metadata": {
    "colab": {
      "provenance": []
    },
    "kernelspec": {
      "name": "python3",
      "display_name": "Python 3"
    },
    "language_info": {
      "name": "python"
    }
  },
  "cells": [
    {
      "cell_type": "code",
      "execution_count": 1,
      "metadata": {
        "id": "SpgLGuXeoxLK"
      },
      "outputs": [],
      "source": [
        "# Importing Libraries\n",
        "import numpy as np\n",
        "import pandas as pd\n",
        "\n",
        "from typing import List, Dict"
      ]
    },
    {
      "cell_type": "code",
      "source": [
        "from sklearn.feature_extraction.text import TfidfVectorizer\n",
        "from sklearn.metrics.pairwise import cosine_similarity"
      ],
      "metadata": {
        "id": "sfiV25Teo67y"
      },
      "execution_count": 2,
      "outputs": []
    },
    {
      "cell_type": "code",
      "source": [
        "# Parsing Input Dataset\n",
        "songs = pd.read_csv('/content/songdata.csv') "
      ],
      "metadata": {
        "id": "dl3eCdDpo-pq"
      },
      "execution_count": 5,
      "outputs": []
    },
    {
      "cell_type": "code",
      "source": [
        "songs.head()"
      ],
      "metadata": {
        "colab": {
          "base_uri": "https://localhost:8080/",
          "height": 206
        },
        "id": "Z35hcP19uzpL",
        "outputId": "aa302cea-1af6-4281-ad61-9e8e97512cbc"
      },
      "execution_count": 6,
      "outputs": [
        {
          "output_type": "execute_result",
          "data": {
            "text/plain": [
              "  artist                   song                                        link  \\\n",
              "0   ABBA  Ahe's My Kind Of Girl  /a/abba/ahes+my+kind+of+girl_20598417.html   \n",
              "1   ABBA       Andante, Andante       /a/abba/andante+andante_20002708.html   \n",
              "2   ABBA         As Good As New        /a/abba/as+good+as+new_20003033.html   \n",
              "3   ABBA                   Bang                  /a/abba/bang_20598415.html   \n",
              "4   ABBA       Bang-A-Boomerang      /a/abba/bang+a+boomerang_20002668.html   \n",
              "\n",
              "                                                text  \n",
              "0  Look at her face, it's a wonderful face  \\nAnd...  \n",
              "1  Take it easy with me, please  \\nTouch me gentl...  \n",
              "2  I'll never know why I had to go  \\nWhy I had t...  \n",
              "3  Making somebody happy is a question of give an...  \n",
              "4  Making somebody happy is a question of give an...  "
            ],
            "text/html": [
              "\n",
              "  <div id=\"df-440247ed-b903-49af-a2d3-0d2fa04c4aff\">\n",
              "    <div class=\"colab-df-container\">\n",
              "      <div>\n",
              "<style scoped>\n",
              "    .dataframe tbody tr th:only-of-type {\n",
              "        vertical-align: middle;\n",
              "    }\n",
              "\n",
              "    .dataframe tbody tr th {\n",
              "        vertical-align: top;\n",
              "    }\n",
              "\n",
              "    .dataframe thead th {\n",
              "        text-align: right;\n",
              "    }\n",
              "</style>\n",
              "<table border=\"1\" class=\"dataframe\">\n",
              "  <thead>\n",
              "    <tr style=\"text-align: right;\">\n",
              "      <th></th>\n",
              "      <th>artist</th>\n",
              "      <th>song</th>\n",
              "      <th>link</th>\n",
              "      <th>text</th>\n",
              "    </tr>\n",
              "  </thead>\n",
              "  <tbody>\n",
              "    <tr>\n",
              "      <th>0</th>\n",
              "      <td>ABBA</td>\n",
              "      <td>Ahe's My Kind Of Girl</td>\n",
              "      <td>/a/abba/ahes+my+kind+of+girl_20598417.html</td>\n",
              "      <td>Look at her face, it's a wonderful face  \\nAnd...</td>\n",
              "    </tr>\n",
              "    <tr>\n",
              "      <th>1</th>\n",
              "      <td>ABBA</td>\n",
              "      <td>Andante, Andante</td>\n",
              "      <td>/a/abba/andante+andante_20002708.html</td>\n",
              "      <td>Take it easy with me, please  \\nTouch me gentl...</td>\n",
              "    </tr>\n",
              "    <tr>\n",
              "      <th>2</th>\n",
              "      <td>ABBA</td>\n",
              "      <td>As Good As New</td>\n",
              "      <td>/a/abba/as+good+as+new_20003033.html</td>\n",
              "      <td>I'll never know why I had to go  \\nWhy I had t...</td>\n",
              "    </tr>\n",
              "    <tr>\n",
              "      <th>3</th>\n",
              "      <td>ABBA</td>\n",
              "      <td>Bang</td>\n",
              "      <td>/a/abba/bang_20598415.html</td>\n",
              "      <td>Making somebody happy is a question of give an...</td>\n",
              "    </tr>\n",
              "    <tr>\n",
              "      <th>4</th>\n",
              "      <td>ABBA</td>\n",
              "      <td>Bang-A-Boomerang</td>\n",
              "      <td>/a/abba/bang+a+boomerang_20002668.html</td>\n",
              "      <td>Making somebody happy is a question of give an...</td>\n",
              "    </tr>\n",
              "  </tbody>\n",
              "</table>\n",
              "</div>\n",
              "      <button class=\"colab-df-convert\" onclick=\"convertToInteractive('df-440247ed-b903-49af-a2d3-0d2fa04c4aff')\"\n",
              "              title=\"Convert this dataframe to an interactive table.\"\n",
              "              style=\"display:none;\">\n",
              "        \n",
              "  <svg xmlns=\"http://www.w3.org/2000/svg\" height=\"24px\"viewBox=\"0 0 24 24\"\n",
              "       width=\"24px\">\n",
              "    <path d=\"M0 0h24v24H0V0z\" fill=\"none\"/>\n",
              "    <path d=\"M18.56 5.44l.94 2.06.94-2.06 2.06-.94-2.06-.94-.94-2.06-.94 2.06-2.06.94zm-11 1L8.5 8.5l.94-2.06 2.06-.94-2.06-.94L8.5 2.5l-.94 2.06-2.06.94zm10 10l.94 2.06.94-2.06 2.06-.94-2.06-.94-.94-2.06-.94 2.06-2.06.94z\"/><path d=\"M17.41 7.96l-1.37-1.37c-.4-.4-.92-.59-1.43-.59-.52 0-1.04.2-1.43.59L10.3 9.45l-7.72 7.72c-.78.78-.78 2.05 0 2.83L4 21.41c.39.39.9.59 1.41.59.51 0 1.02-.2 1.41-.59l7.78-7.78 2.81-2.81c.8-.78.8-2.07 0-2.86zM5.41 20L4 18.59l7.72-7.72 1.47 1.35L5.41 20z\"/>\n",
              "  </svg>\n",
              "      </button>\n",
              "      \n",
              "  <style>\n",
              "    .colab-df-container {\n",
              "      display:flex;\n",
              "      flex-wrap:wrap;\n",
              "      gap: 12px;\n",
              "    }\n",
              "\n",
              "    .colab-df-convert {\n",
              "      background-color: #E8F0FE;\n",
              "      border: none;\n",
              "      border-radius: 50%;\n",
              "      cursor: pointer;\n",
              "      display: none;\n",
              "      fill: #1967D2;\n",
              "      height: 32px;\n",
              "      padding: 0 0 0 0;\n",
              "      width: 32px;\n",
              "    }\n",
              "\n",
              "    .colab-df-convert:hover {\n",
              "      background-color: #E2EBFA;\n",
              "      box-shadow: 0px 1px 2px rgba(60, 64, 67, 0.3), 0px 1px 3px 1px rgba(60, 64, 67, 0.15);\n",
              "      fill: #174EA6;\n",
              "    }\n",
              "\n",
              "    [theme=dark] .colab-df-convert {\n",
              "      background-color: #3B4455;\n",
              "      fill: #D2E3FC;\n",
              "    }\n",
              "\n",
              "    [theme=dark] .colab-df-convert:hover {\n",
              "      background-color: #434B5C;\n",
              "      box-shadow: 0px 1px 3px 1px rgba(0, 0, 0, 0.15);\n",
              "      filter: drop-shadow(0px 1px 2px rgba(0, 0, 0, 0.3));\n",
              "      fill: #FFFFFF;\n",
              "    }\n",
              "  </style>\n",
              "\n",
              "      <script>\n",
              "        const buttonEl =\n",
              "          document.querySelector('#df-440247ed-b903-49af-a2d3-0d2fa04c4aff button.colab-df-convert');\n",
              "        buttonEl.style.display =\n",
              "          google.colab.kernel.accessAllowed ? 'block' : 'none';\n",
              "\n",
              "        async function convertToInteractive(key) {\n",
              "          const element = document.querySelector('#df-440247ed-b903-49af-a2d3-0d2fa04c4aff');\n",
              "          const dataTable =\n",
              "            await google.colab.kernel.invokeFunction('convertToInteractive',\n",
              "                                                     [key], {});\n",
              "          if (!dataTable) return;\n",
              "\n",
              "          const docLinkHtml = 'Like what you see? Visit the ' +\n",
              "            '<a target=\"_blank\" href=https://colab.research.google.com/notebooks/data_table.ipynb>data table notebook</a>'\n",
              "            + ' to learn more about interactive tables.';\n",
              "          element.innerHTML = '';\n",
              "          dataTable['output_type'] = 'display_data';\n",
              "          await google.colab.output.renderOutput(dataTable, element);\n",
              "          const docLink = document.createElement('div');\n",
              "          docLink.innerHTML = docLinkHtml;\n",
              "          element.appendChild(docLink);\n",
              "        }\n",
              "      </script>\n",
              "    </div>\n",
              "  </div>\n",
              "  "
            ]
          },
          "metadata": {},
          "execution_count": 6
        }
      ]
    },
    {
      "cell_type": "code",
      "source": [
        "# Resampling only 5000 random songs for the assignment since the dataset is very huge\n",
        "songs = songs.sample(n=5000).drop('link', axis=1).reset_index(drop=True)"
      ],
      "metadata": {
        "id": "1v7yPlFru_ah"
      },
      "execution_count": 7,
      "outputs": []
    },
    {
      "cell_type": "code",
      "source": [
        "# Filtering data - removing unwanted \"\\n\" characters\n",
        "songs['text'] = songs['text'].str.replace(r'\\n', '')"
      ],
      "metadata": {
        "colab": {
          "base_uri": "https://localhost:8080/"
        },
        "id": "OHMn1o8XvMjZ",
        "outputId": "25697eb3-8cf5-4fe5-f348-6a83ef7e3688"
      },
      "execution_count": 8,
      "outputs": [
        {
          "output_type": "stream",
          "name": "stderr",
          "text": [
            "/usr/local/lib/python3.7/dist-packages/ipykernel_launcher.py:2: FutureWarning: The default value of regex will change from True to False in a future version.\n",
            "  \n"
          ]
        }
      ]
    },
    {
      "cell_type": "code",
      "source": [
        "# After that, we use TF-IDF vectorizerthat calculates the TF-IDF score for each song lyric, word-by-word.\n",
        "# Here, we pay particular attention to the arguments we can specify.\n",
        "tfidf = TfidfVectorizer(analyzer='word', stop_words='english')\n"
      ],
      "metadata": {
        "id": "uMu1xf_zvS0C"
      },
      "execution_count": 9,
      "outputs": []
    },
    {
      "cell_type": "code",
      "source": [
        "# Creating Lyrics Matrix\n",
        "# We will use this matrix for recommendation by using Cosine Similarity\n",
        "lyrics_matrix = tfidf.fit_transform(songs['text'])"
      ],
      "metadata": {
        "id": "6iDtqvcrviQy"
      },
      "execution_count": 11,
      "outputs": []
    },
    {
      "cell_type": "code",
      "source": [
        "# Calculating cosine similarities in the matrix\n",
        "cosine_similarities = cosine_similarity(lyrics_matrix) "
      ],
      "metadata": {
        "id": "XLi4pqzzvwH5"
      },
      "execution_count": 12,
      "outputs": []
    },
    {
      "cell_type": "code",
      "source": [
        "# Once we get the similarities, we'll store in a dictionary the names of the 50 most similar songs for each song in our dataset.\n",
        "similarities = {}\n",
        "for i in range(len(cosine_similarities)):\n",
        "    # Now we'll sort each element in cosine_similarities and get the indexes of the songs. \n",
        "    similar_indices = cosine_similarities[i].argsort()[:-50:-1] \n",
        "    # After that, we'll store in similarities each name of the 50 most similar songs.\n",
        "    # Except the first one that is the same song.\n",
        "    similarities[songs['song'].iloc[i]] = [(cosine_similarities[i][x], songs['song'][x], songs['artist'][x]) for x in similar_indices][1:]\n",
        "\n",
        "# Now we can use the similarity scores to access the most similar items and give a recommendation."
      ],
      "metadata": {
        "id": "2atq-MMjv2_Z"
      },
      "execution_count": 13,
      "outputs": []
    },
    {
      "cell_type": "code",
      "source": [
        "# Defining content based recommender class\n",
        "class ContentBasedRecommender:\n",
        "    def __init__(self, matrix):\n",
        "        self.matrix_similar = matrix\n",
        "\n",
        "    def _print_message(self, song, recom_song):\n",
        "        rec_items = len(recom_song)\n",
        "        \n",
        "        print(f'The {rec_items} recommended songs for {song} are:')\n",
        "        for i in range(rec_items):\n",
        "            print(f\"Number {i+1}:\")\n",
        "            print(f\"{recom_song[i][1]} by {recom_song[i][2]} with {round(recom_song[i][0], 3)} similarity score\") \n",
        "            print(\"--------------------\")\n",
        "        \n",
        "    def recommend(self, recommendation):\n",
        "        # Get song to find recommendations for\n",
        "        song = recommendation['song']\n",
        "        # Get number of songs to recommend\n",
        "        number_songs = recommendation['number_songs']\n",
        "        # Get the number of songs most similars from matrix similarities\n",
        "        recom_song = self.matrix_similar[song][:number_songs]\n",
        "        # print each item\n",
        "        self._print_message(song=song, recom_song=recom_song)"
      ],
      "metadata": {
        "id": "aLq7UtHFwJa6"
      },
      "execution_count": 14,
      "outputs": []
    },
    {
      "cell_type": "code",
      "source": [
        "# Instantiating the class\n",
        "recommedations = ContentBasedRecommender(similarities)"
      ],
      "metadata": {
        "id": "fhSlNfbnwPyI"
      },
      "execution_count": 15,
      "outputs": []
    },
    {
      "cell_type": "code",
      "source": [
        "# Picking a song by index from dataset and making recommendation based on it\n",
        "\n",
        "recommendation = {\n",
        "    \"song\": songs['song'].iloc[10],\n",
        "    \"number_songs\": 4 \n",
        "}\n",
        "\n",
        "recommedations.recommend(recommendation)"
      ],
      "metadata": {
        "colab": {
          "base_uri": "https://localhost:8080/"
        },
        "id": "kGpspkhNwUw4",
        "outputId": "0f6392e1-a4be-43d6-e49e-45d541dacd2c"
      },
      "execution_count": 16,
      "outputs": [
        {
          "output_type": "stream",
          "name": "stdout",
          "text": [
            "The 4 recommended songs for R.u. Satisfied are:\n",
            "Number 1:\n",
            "I Ain't Ever Satisfied by John Mellencamp with 0.692 similarity score\n",
            "--------------------\n",
            "Number 2:\n",
            "I'm Satisfied With You by Hank Williams with 0.68 similarity score\n",
            "--------------------\n",
            "Number 3:\n",
            "The Satisfied Mind by Devo with 0.673 similarity score\n",
            "--------------------\n",
            "Number 4:\n",
            "Love Of My Life by Gino Vannelli with 0.249 similarity score\n",
            "--------------------\n"
          ]
        }
      ]
    },
    {
      "cell_type": "code",
      "source": [
        "# We can redo this as many times for any song from the dataset\n",
        "recommendation2 = {\n",
        "    \"song\": songs['song'].iloc[420],\n",
        "    \"number_songs\": 4 \n",
        "}\n",
        "\n",
        "recommedations.recommend(recommendation2)"
      ],
      "metadata": {
        "colab": {
          "base_uri": "https://localhost:8080/"
        },
        "id": "fFwZYet6wgrB",
        "outputId": "1ea9bcf5-82cd-467c-86d6-5ac0806abf59"
      },
      "execution_count": 18,
      "outputs": [
        {
          "output_type": "stream",
          "name": "stdout",
          "text": [
            "The 4 recommended songs for Suck My Kiss are:\n",
            "Number 1:\n",
            "She's Not My Girlfriend by Marilyn Manson with 0.393 similarity score\n",
            "--------------------\n",
            "Number 2:\n",
            "Kiss Kiss by Yeah Yeah Yeahs with 0.287 similarity score\n",
            "--------------------\n",
            "Number 3:\n",
            "Kiss Kiss by Chris Brown with 0.269 similarity score\n",
            "--------------------\n",
            "Number 4:\n",
            "Kiss Me by Olly Murs with 0.24 similarity score\n",
            "--------------------\n"
          ]
        }
      ]
    }
  ]
}